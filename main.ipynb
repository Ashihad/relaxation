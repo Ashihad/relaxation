{
 "cells": [
  {
   "cell_type": "code",
   "execution_count": 43,
   "metadata": {},
   "outputs": [],
   "source": [
    "import numpy as np\n",
    "import matplotlib.pyplot as plt\n",
    "%matplotlib qt"
   ]
  },
  {
   "cell_type": "code",
   "execution_count": 44,
   "metadata": {},
   "outputs": [],
   "source": [
    "d = 5\n",
    "x_0 = 5\n",
    "dx = 1\n",
    "N = 100\n",
    "N_iter = 1000\n",
    "N_size = 2*N+1\n",
    "rho = np.empty((N_size, N_size))\n",
    "u = np.zeros((N_size, N_size))\n",
    "a = np.zeros((N_iter))\n",
    "rhoprime = np.zeros((N_size, N_size))\n",
    "delta = np.empty((N_size, N_size))\n",
    "\n",
    "# initial conditions for rho grid\n",
    "for i in range(N_size):\n",
    "    x = i-N\n",
    "    for j in range(N_size):\n",
    "        y = j-N\n",
    "        rho[i][j] = np.exp(-((x-x_0)**2 + y**2)/d**2) - np.exp(-((x+x_0)**2 + y**2)/d**2)"
   ]
  },
  {
   "cell_type": "code",
   "execution_count": 45,
   "metadata": {},
   "outputs": [],
   "source": [
    "# main relaxation loop\n",
    "for iteration in range(N_iter):\n",
    "    for i in range(1, N_size-1):\n",
    "        for j in range(1, N_size-1):\n",
    "            u[i][j] = (u[i+1][j] + u[i-1][j] + u[i][j+1] + u[i][j-1] + rho[i][j]*dx**2)/4\n",
    "    a[iteration] = sum([ (1/2*((u[i+1][j] - u[i-1][j])/(2*dx))**2 + 1/2*((u[i][j+1] - u[i][j-1])/(2*dx))**2 - rho[i][j]*u[i][j])*dx**2 for i in range(1, N_size-1) for j in range(1, N_size-1)])\n",
    "\n",
    "# get reproduced rho\n",
    "for i in range(1, N_size-1):\n",
    "    for j in range(1, N_size-1):\n",
    "        rhoprime[i][j] = -(u[i+1][j] + u[i-1][j] + u[i][j+1] + u[i][j-1] -4*u[i][j])/(dx**2)\n",
    "\n",
    "# get error between rhos\n",
    "delta = rhoprime-rho"
   ]
  },
  {
   "cell_type": "code",
   "execution_count": 46,
   "metadata": {},
   "outputs": [],
   "source": [
    "# plot results\n",
    "\n",
    "plt.close('all')\n",
    "\n",
    "plt.figure(1)\n",
    "plt.plot(a)\n",
    "plt.suptitle('Wykres a od numeru iteracji')\n",
    "\n",
    "plt.figure(2)\n",
    "pos1 = plt.imshow(u, cmap='RdBu')\n",
    "plt.suptitle('Wykres u po tysięcznej iteracji')\n",
    "plt.colorbar(pos1)\n",
    "\n",
    "plt.figure(3)\n",
    "pos2 = plt.imshow(rhoprime, cmap='RdBu')\n",
    "plt.suptitle('Wykres reprodukowanej gęstości')\n",
    "plt.colorbar(pos2)\n",
    "\n",
    "plt.figure(4)\n",
    "pos3 = plt.imshow(delta, cmap='RdBu')\n",
    "plt.suptitle('Wykres różnicy reprodukowanej gęstości od prawdziwej gęstości')\n",
    "plt.colorbar(pos3)\n",
    "\n",
    "plt.show()"
   ]
  },
  {
   "cell_type": "code",
   "execution_count": 47,
   "metadata": {},
   "outputs": [],
   "source": [
    "# this time iter = 2000, get delta\n",
    "\n",
    "N_iter = 2000\n",
    "\n",
    "# reset u, new a\n",
    "u.fill(0)\n",
    "\n",
    "# main relaxation loop\n",
    "for iteration in range(N_iter):\n",
    "    for i in range(1, N_size-1):\n",
    "        for j in range(1, N_size-1):\n",
    "            u[i][j] = (u[i+1][j] + u[i-1][j] + u[i][j+1] + u[i][j-1] + rho[i][j]*dx**2)/4\n",
    "\n",
    "# get reproduced rho\n",
    "for i in range(1, N_size-1):\n",
    "    for j in range(1, N_size-1):\n",
    "        rhoprime[i][j] = -(u[i+1][j] + u[i-1][j] + u[i][j+1] + u[i][j-1] -4*u[i][j])/(dx**2)\n",
    "\n",
    "# get error between rhos\n",
    "delta = rhoprime-rho"
   ]
  },
  {
   "cell_type": "code",
   "execution_count": 48,
   "metadata": {},
   "outputs": [],
   "source": [
    "#plot delta\n",
    "\n",
    "plt.close('all')\n",
    "\n",
    "plt.figure(5)\n",
    "pos4 = plt.imshow(delta, cmap='RdBu')\n",
    "plt.suptitle('Wykres różnicy reprodukowanej gęstości od prawdziwej gęstości, po 2000 iteracji')\n",
    "plt.colorbar(pos4)\n",
    "\n",
    "plt.show()"
   ]
  },
  {
   "cell_type": "code",
   "execution_count": 28,
   "metadata": {},
   "outputs": [],
   "source": [
    "# estimate best w parameter\n",
    "\n",
    "N_iter = 1000\n",
    "\n",
    "w_array = np.arange(1, 2, 0.1)\n",
    "a1 = np.zeros((len(w_array), N_iter))\n",
    "\n",
    "# main relaxation loop\n",
    "for count, w in enumerate(w_array):\n",
    "    u.fill(0)\n",
    "    for iteration in range(N_iter):\n",
    "        for i in range(1, N_size-1):\n",
    "            for j in range(1, N_size-1):\n",
    "                u[i][j] = (1-w)*u[i][j] + w*(u[i+1][j] + u[i-1][j] + u[i][j+1] + u[i][j-1] + rho[i][j]*dx**2)/4\n",
    "        a1[count][iteration] = sum([ (1/2*((u[i+1][j] - u[i-1][j])/(2*dx))**2 + 1/2*((u[i][j+1] - u[i][j-1])/(2*dx))**2 - rho[i][j]*u[i][j])*dx**2 for i in range(1, N_size-1) for j in range(1, N_size-1)])\n",
    "\n",
    "# create first legend\n",
    "legend1 = []\n",
    "for w in w_array:\n",
    "    legend1.append('%.2f' % (w))\n",
    "\n",
    "# narrowing down\n",
    "\n",
    "w_array = np.arange(1.9, 2, 0.01)\n",
    "a2 = np.zeros((len(w_array), N_iter))\n",
    "\n",
    "# main relaxation loop\n",
    "for count, w in enumerate(w_array):\n",
    "    u.fill(0)\n",
    "    for iteration in range(N_iter):\n",
    "        for i in range(1, N_size-1):\n",
    "            for j in range(1, N_size-1):\n",
    "                u[i][j] = (1-w)*u[i][j] + w*(u[i+1][j] + u[i-1][j] + u[i][j+1] + u[i][j-1] + rho[i][j]*dx**2)/4\n",
    "        a2[count][iteration] = sum([ (1/2*((u[i+1][j] - u[i-1][j])/(2*dx))**2 + 1/2*((u[i][j+1] - u[i][j-1])/(2*dx))**2 - rho[i][j]*u[i][j])*dx**2 for i in range(1, N_size-1) for j in range(1, N_size-1)])\n",
    "\n",
    "# create second legend\n",
    "legend2 = []\n",
    "for w in w_array:\n",
    "    legend2.append('%.2f' % (w))"
   ]
  },
  {
   "cell_type": "code",
   "execution_count": 38,
   "metadata": {},
   "outputs": [],
   "source": [
    "# plot a(w)\n",
    "\n",
    "plt.close('all')\n",
    "\n",
    "fig, axes = plt.subplots(2)\n",
    "for i in range(len(legend1)):\n",
    "    axes[0].plot(a1[i][:400])\n",
    "axes[0].legend(legend1)\n",
    "axes[0].set_xlabel('numer iteracji')\n",
    "for i in range(len(legend2)):\n",
    "    axes[1].plot(a2[i][:400])\n",
    "axes[1].legend(legend2)\n",
    "axes[1].set_xlabel('numer iteracji')\n",
    "fig.suptitle('Zależność zbieżności od przyjętego parametru w')\n",
    "\n",
    "plt.show()"
   ]
  },
  {
   "cell_type": "code",
   "execution_count": 39,
   "metadata": {},
   "outputs": [],
   "source": [
    "# plot a(w = 1.9)\n",
    "\n",
    "plt.close('all')\n",
    "\n",
    "plt.figure(6)\n",
    "plt.plot(a2[0][:400])\n",
    "plt.suptitle('Wykres najszybszej zbieżności (w = 1.90)')\n",
    "plt.xlabel('numer iteracji')\n",
    "\n",
    "plt.show()"
   ]
  },
  {
   "cell_type": "code",
   "execution_count": 40,
   "metadata": {},
   "outputs": [],
   "source": [
    "w = 1.9\n",
    "a = np.empty((N_iter))\n",
    "\n",
    "# main relaxation loop\n",
    "\n",
    "u.fill(0)\n",
    "for iteration in range(N_iter):\n",
    "    for i in range(1, N_size-1):\n",
    "        for j in range(1, N_size-1):\n",
    "            u[i][j] = (1-w)*u[i][j] + w*(u[i+1][j] + u[i-1][j] + u[i][j+1] + u[i][j-1] + rho[i][j]*dx**2)/4\n",
    "\n",
    "# get reproduced rho\n",
    "for i in range(1, N_size-1):\n",
    "    for j in range(1, N_size-1):\n",
    "        rhoprime[i][j] = -(u[i+1][j] + u[i-1][j] + u[i][j+1] + u[i][j-1] -4*u[i][j])/(dx**2)\n",
    "\n",
    "# get error between rhos\n",
    "delta = rhoprime-rho"
   ]
  },
  {
   "cell_type": "code",
   "execution_count": 41,
   "metadata": {},
   "outputs": [],
   "source": [
    "#plot delta for w = 1.9\n",
    "\n",
    "plt.close('all')\n",
    "\n",
    "plt.figure(7)\n",
    "pos7 = plt.imshow(delta, cmap='RdBu')\n",
    "plt.suptitle('Wykres różnicy reprodukowanej gęstości od prawdziwej gęstości, po 1000 iteracji z parametrem w = 1.9')\n",
    "plt.colorbar(pos7)\n",
    "\n",
    "plt.show()"
   ]
  }
 ],
 "metadata": {
  "interpreter": {
   "hash": "928c4e494816edbabf69b9b5905419118381c6c924b3913165d89158a41decf5"
  },
  "kernelspec": {
   "display_name": "Python 3.9.7 ('base')",
   "language": "python",
   "name": "python3"
  },
  "language_info": {
   "codemirror_mode": {
    "name": "ipython",
    "version": 3
   },
   "file_extension": ".py",
   "mimetype": "text/x-python",
   "name": "python",
   "nbconvert_exporter": "python",
   "pygments_lexer": "ipython3",
   "version": "3.9.7"
  },
  "orig_nbformat": 4
 },
 "nbformat": 4,
 "nbformat_minor": 2
}
